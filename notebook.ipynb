{
 "cells": [
  {
   "cell_type": "code",
   "execution_count": null,
   "metadata": {},
   "outputs": [
    {
     "name": "stdout",
     "output_type": "stream",
     "text": [
      "['flag-1', 'flag-10', 'flag-11', 'flag-12', 'flag-13', 'flag-14', 'flag-15', 'flag-16', 'flag-17', 'flag-18', 'flag-19', 'flag-2', 'flag-20', 'flag-21', 'flag-22', 'flag-23', 'flag-24', 'flag-25', 'flag-26', 'flag-27', 'flag-28', 'flag-29', 'flag-3', 'flag-30', 'flag-31', 'flag-32', 'flag-33', 'flag-34', 'flag-35', 'flag-36', 'flag-37', 'flag-38', 'flag-39', 'flag-4', 'flag-40', 'flag-5', 'flag-6', 'flag-7', 'flag-8', 'flag-9', 'self.__next_f.push([1,\"3:[[[\\\\\"$\\\\\",\\\\\"link\\\\\",\\\\\"0\\\\\",{\\\\\"rel\\\\\":\\\\\"stylesheet\\\\\",\\\\\"href\\\\\":\\\\\"/_next/static/css/587c2a9769833a12.css\\\\\",\\\\\"precedence\\\\\":\\\\\"next\\\\\",\\\\\"crossOrigin\\\\\":\\\\\"\\\\\"}]],[\\\\\"$\\\\\",\\\\\"$L4\\\\\",null,{\\\\\"buildId\\\\\":\\\\\"gp2EwoegkGefVSYsK1Mbv\\\\\",\\\\\"assetPrefix\\\\\":\\\\\"\\\\\",\\\\\"initialCanonicalUrl\\\\\":\\\\\"/\\\\\",\\\\\"initialTree\\\\\":[\\\\\"\\\\\",{\\\\\"children\\\\\":[\\\\\"__PAGE__\\\\\",{}]},\\\\\"$undefined\\\\\",\\\\\"$undefined\\\\\",true],\\\\\"initialSeedData\\\\\":[\\\\\"\\\\\",{\\\\\"children\\\\\":[\\\\\"__PAGE__\\\\\",{},[\\\\\"$L5\\\\\",[\\\\\"$\\\\\",\\\\\"div\\\\\",null,{\\\\\"className\\\\\":\\\\\"container mx-auto\\\\\",\\\\\"children\\\\\":[[\\\\\"$\\\\\",\\\\\"div\\\\\",null,{\\\\\"className\\\\\":\\\\\"h-20 sticky\\\\\",\\\\\"children\\\\\":[\\\\\"$\\\\\",\\\\\"$L6\\\\\",null,{\\\\\"src\\\\\":\\\\\"/hertie-school-logo.png\\\\\",\\\\\"width\\\\\":150,\\\\\"height\\\\\":150,\\\\\"alt\\\\\":\\\\\"flag-9\\\\\"}]}],[\\\\\"$\\\\\",\\\\\"div\\\\\",null,{\\\\\"className\\\\\":\\\\\"border-4 border-red-700/75 flex items-center justify-center py-6 px-5 my-4\\\\\",\\\\\"children\\\\\":[\\\\\"$\\\\\",\\\\\"div\\\\\",null,{\\\\\"className\\\\\":\\\\\"text-center\\\\\",\\\\\"children\\\\\":[[\\\\\"$\\\\\",\\\\\"div\\\\\",null,{\\\\\"className\\\\\":\\\\\"main-text\\\\\",\\\\\"children\\\\\":[[\\\\\"$\\\\\",\\\\\"p\\\\\",null,{\\\\\"className\\\\\":\\\\\"text-2xl py-2\\\\\",\\\\\"children\\\\\":\\\\\"Capture the Flag\\\\\"}],[\\\\\"$\\\\\",\\\\\"p\\\\\",null,{\\\\\"className\\\\\":\\\\\"text-base py-2\\\\\",\\\\\"children\\\\\":\\\\\"Wow, seems like there is a bunch of flags in this webapp... I also think there are some hidden places... Do you think you can find them all? \\\\\"}],[\\\\\"$\\\\\",\\\\\"div\\\\\",null,{\\\\\"children\\\\\":[[\\\\\"$\\\\\",\\\\\"p\\\\\",null,{\\\\\"className\\\\\":\\\\\"text-base py-2\\\\\",\\\\\"children\\\\\":\\\\\"Here are the first 8 (?) flags:\\\\\"}],[\\\\\"$\\\\\",\\\\\"div\\\\\",null,{\\\\\"id\\\\\":\\\\\"nesting-1\\\\\",\\\\\"children\\\\\":[[\\\\\"$\\\\\",\\\\\"p\\\\\",null,{\\\\\"className\\\\\":\\\\\"text-base\\\\\",\\\\\"children\\\\\":\\\\\"flag-1\\\\\"}],[\\\\\"$\\\\\",\\\\\"div\\\\\",null,{\\\\\"id\\\\\":\\\\\"nesting-2\\\\\",\\\\\"children\\\\\":[[\\\\\"$\\\\\",\\\\\"p\\\\\",null,{\\\\\"className\\\\\":\\\\\"text-base\\\\\",\\\\\"children\\\\\":\\\\\"flag-2\\\\\"}],[\\\\\"$\\\\\",\\\\\"div\\\\\",null,{\\\\\"id\\\\\":\\\\\"nesting-3\\\\\",\\\\\"children\\\\\":[[\\\\\"$\\\\\",\\\\\"p\\\\\",null,{\\\\\"className\\\\\":\\\\\"text-base\\\\\",\\\\\"id\\\\\":\\\\\"flag-7\\\\\",\\\\\"children\\\\\":\\\\\"flag-3\\\\\"}],[\\\\\"$\\\\\",\\\\\"div\\\\\",null,{\\\\\"id\\\\\":\\\\\"nesting-4\\\\\",\\\\\"children\\\\\":[[\\\\\"$\\\\\",\\\\\"p\\\\\",null,{\\\\\"className\\\\\":\\\\\"text-base\\\\\",\\\\\"children\\\\\":\\\\\"flag-4\\\\\"}],[\\\\\"$\\\\\",\\\\\"div\\\\\",null,{\\\\\"id\\\\\":\\\\\"nesting-5\\\\\",\\\\\"children\\\\\":[\\\\\"$\\\\\",\\\\\"p\\\\\",null,{\\\\\"className\\\\\":\\\\\"text-base\\\\\",\\\\\"children\\\\\":\\\\\"flag-5\\\\\"}]}],[\\\\\"$\\\\\",\\\\\"div\\\\\",null,{\\\\\"id\\\\\":\\\\\"nesting-4\\\\\",\\\\\"children\\\\\":[[\\\\\"$\\\\\",\\\\\"p\\\\\",null,{\\\\\"className\\\\\":\\\\\"text-base\\\\\",\\\\\"children\\\\\":\\\\\"flag-6\\\\\"}],[\\\\\"$\\\\\",\\\\\"div\\\\\",null,{\\\\\"id\\\\\":\\\\\"nesting-5\\\\\",\\\\\"children\\\\\":[[\\\\\"$\\\\\",\\\\\"p\\\\\",null,{\\\\\"className\\\\\":\\\\\"text-base\\\\\",\\\\\"children\\\\\":\\\\\"flag-7\\\\\"}],[\\\\\"$\\\\\",\\\\\"p\\\\\",null,{\\\\\"className\\\\\":\\\\\"text-transparent\\\\\",\\\\\"children\\\\\":\\\\\"flag-8\\\\\"}]]}]]}]]}]]}]]}]]}]]}]]}],[\\\\\"$\\\\\",\\\\\"div\\\\\",null,{\\\\\"id\\\\\":\\\\\"flag-8\\\\\",\\\\\"children\\\\\":\\\\\"Good luck!\\\\\"}]]}]}],[\\\\\"$\\\\\",\\\\\"div\\\\\",null,{\\\\\"id\\\\\":\\\\\"flag-9\\\\\",\\\\\"className\\\\\":\\\\\"overflow-auto\\\\\",\\\\\"children\\\\\":[\\\\\"$\\\\\",\\\\\"div\\\\\",null,{\\\\\"className\\\\\":\\\\\"text-wrap flex justify-between\\\\\",\\\\\"children\\\\\":[[\\\\\"$\\\\\",\\\\\"div\\\\\",null,{\\\\\"className\\\\\":\\\\\"size-10\\\\\",\\\\\"children\\\\\":[\\\\\"$\\\\\",\\\\\"div\\\\\",null,{\\\\\"id\\\\\":\\\\\"\\\\\",\\\\\"className\\\\\":\\\\\"flag-10\\\\\",\\\\\"children\\\\\":\\\\\"⚑\\\\\"}]}],[\\\\\"$\\\\\",\\\\\"div\\\\\",null,{\\\\\"className\\\\\":\\\\\"size-10\\\\\",\\\\\"children\\\\\":[\\\\\"$\\\\\",\\\\\"div\\\\\",null,{\\\\\"id\\\\\":\\\\\"flag-11\\\\\",\\\\\"className\\\\\":\\\\\"\\\\\",\\\\\"children\\\\\":\\\\\"⚑\\\\\"}]}],[\\\\\"$\\\\\",\\\\\"div\\\\\",null,{\\\\\"className\\\\\":\\\\\"size-10\\\\\",\\\\\"children\\\\\":[\\\\\"$\\\\\",\\\\\"div\\\\\",null,{\\\\\"id\\\\\":\\\\\"\\\\\",\\\\\"className\\\\\":\\\\\"flag-12\\\\\",\\\\\"children\\\\\":\\\\\"⚑\\\\\"}]}],[\\\\\"$\\\\\",\\\\\"div\\\\\",null,{\\\\\"className\\\\\":\\\\\"size-10\\\\\",\\\\\"children\\\\\":[\\\\\"$\\\\\",\\\\\"div\\\\\",null,{\\\\\"id\\\\\":\\\\\"flag-13\\\\\",\\\\\"className\\\\\":\\\\\"\\\\\",\\\\\"children\\\\\":\\\\\"⚑\\\\\"}]}],[\\\\\"$\\\\\",\\\\\"div\\\\\",null,{\\\\\"className\\\\\":\\\\\"size-10\\\\\",\\\\\"children\\\\\":[\\\\\"$\\\\\",\\\\\"div\\\\\",null,{\\\\\"id\\\\\":\\\\\"\\\\\",\\\\\"className\\\\\":\\\\\"flag-14\\\\\",\\\\\"children\\\\\":\\\\\"⚑\\\\\"}]}],[\\\\\"$\\\\\",\\\\\"div\\\\\",null,{\\\\\"className\\\\\":\\\\\"size-10\\\\\",\\\\\"children\\\\\":[\\\\\"$\\\\\",\\\\\"div\\\\\",null,{\\\\\"id\\\\\":\\\\\"flag-15\\\\\",\\\\\"className\\\\\":\\\\\"\\\\\",\\\\\"children\\\\\":\\\\\"⚑\\\\\"}]}],[\\\\\"$\\\\\",\\\\\"div\\\\\",null,{\\\\\"className\\\\\":\\\\\"size-10\\\\\",\\\\\"children\\\\\":[\\\\\"$\\\\\",\\\\\"div\\\\\",null,{\\\\\"id\\\\\":\\\\\"\\\\\",\\\\\"className\\\\\":\\\\\"flag-16\\\\\",\\\\\"children\\\\\":\\\\\"⚑\\\\\"}]}],[\\\\\"$\\\\\",\\\\\"div\\\\\",null,{\\\\\"className\\\\\":\\\\\"size-10\\\\\",\\\\\"children\\\\\":[\\\\\"$\\\\\",\\\\\"div\\\\\",null,{\\\\\"id\\\\\":\\\\\"flag-17\\\\\",\\\\\"className\\\\\":\\\\\"\\\\\",\\\\\"children\\\\\":\\\\\"⚑\\\\\"}]}],[\\\\\"$\\\\\",\\\\\"div\\\\\",null,{\\\\\"className\\\\\":\\\\\"size-10\\\\\",\\\\\"children\\\\\":[\\\\\"$\\\\\",\\\\\"div\\\\\",null,{\\\\\"id\\\\\":\\\\\"\\\\\",\\\\\"className\\\\\":\\\\\"flag-18\\\\\",\\\\\"children\\\\\":\\\\\"⚑\\\\\"}]}],[\\\\\"$\\\\\",\\\\\"div\\\\\",null,{\\\\\"className\\\\\":\\\\\"size-10\\\\\",\\\\\"children\\\\\":[\\\\\"$\\\\\",\\\\\"div\\\\\",null,{\\\\\"id\\\\\":\\\\\"flag-19\\\\\",\\\\\"className\\\\\":\\\\\"\\\\\",\\\\\"children\\\\\":\\\\\"⚑\\\\\"}]}],[\\\\\"$\\\\\",\\\\\"div\\\\\",null,{\\\\\"className\\\\\":\\\\\"size-10\\\\\",\\\\\"children\\\\\":[\\\\\"$\\\\\",\\\\\"div\\\\\",null,{\\\\\"id\\\\\":\\\\\"\\\\\",\\\\\"className\\\\\":\\\\\"flag-20\\\\\",\\\\\"children\\\\\":\\\\\"⚑\\\\\"}]}],[\\\\\"$\\\\\",\\\\\"div\\\\\",null,{\\\\\"className\\\\\":\\\\\"size-10\\\\\",\\\\\"children\\\\\":[\\\\\"$\\\\\",\\\\\"div\\\\\",null,{\\\\\"id\\\\\":\\\\\"flag-21\\\\\",\\\\\"className\\\\\":\\\\\"\\\\\",\\\\\"children\\\\\":\\\\\"⚑\\\\\"}]}],[\\\\\"$\\\\\",\\\\\"div\\\\\",null,{\\\\\"className\\\\\":\\\\\"size-10\\\\\",\\\\\"children\\\\\":[\\\\\"$\\\\\",\\\\\"div\\\\\",null,{\\\\\"id\\\\\":\\\\\"\\\\\",\\\\\"className\\\\\":\\\\\"flag-22\\\\\",\\\\\"children\\\\\":\\\\\"⚑\\\\\"}]}],[\\\\\"$\\\\\",\\\\\"div\\\\\",null,{\\\\\"className\\\\\":\\\\\"size-10\\\\\",\\\\\"children\\\\\":[\\\\\"$\\\\\",\\\\\"div\\\\\",null,{\\\\\"id\\\\\":\\\\\"flag-23\\\\\",\\\\\"className\\\\\":\\\\\"\\\\\",\\\\\"children\\\\\":\\\\\"⚑\\\\\"}]}],[\\\\\"$\\\\\",\\\\\"div\\\\\",null,{\\\\\"className\\\\\":\\\\\"size-10\\\\\",\\\\\"children\\\\\":[\\\\\"$\\\\\",\\\\\"div\\\\\",null,{\\\\\"id\\\\\":\\\\\"\\\\\",\\\\\"className\\\\\":\\\\\"flag-24\\\\\",\\\\\"children\\\\\":\\\\\"⚑\\\\\"}]}],[\\\\\"$\\\\\",\\\\\"div\\\\\",null,{\\\\\"className\\\\\":\\\\\"size-10\\\\\",\\\\\"children\\\\\":[\\\\\"$\\\\\",\\\\\"div\\\\\",null,{\\\\\"id\\\\\":\\\\\"flag-25\\\\\",\\\\\"className\\\\\":\\\\\"\\\\\",\\\\\"children\\\\\":\\\\\"⚑\\\\\"}]}],[\\\\\"$\\\\\",\\\\\"div\\\\\",null,{\\\\\"className\\\\\":\\\\\"size-10\\\\\",\\\\\"children\\\\\":[\\\\\"$\\\\\",\\\\\"div\\\\\",null,{\\\\\"id\\\\\":\\\\\"\\\\\",\\\\\"className\\\\\":\\\\\"flag-26\\\\\",\\\\\"children\\\\\":\\\\\"⚑\\\\\"}]}],[\\\\\"$\\\\\",\\\\\"div\\\\\",null,{\\\\\"className\\\\\":\\\\\"size-10\\\\\",\\\\\"children\\\\\":[\\\\\"$\\\\\",\\\\\"div\\\\\",null,{\\\\\"id\\\\\":\\\\\"flag-27\\\\\",\\\\\"className\\\\\":\\\\\"\\\\\",\\\\\"children\\\\\":\\\\\"⚑\\\\\"}]}],[\\\\\"$\\\\\",\\\\\"div\\\\\",null,{\\\\\"className\\\\\":\\\\\"size-10\\\\\",\\\\\"children\\\\\":[\\\\\"$\\\\\",\\\\\"div\\\\\",null,{\\\\\"id\\\\\":\\\\\"\\\\\",\\\\\"className\\\\\":\\\\\"flag-28\\\\\",\\\\\"children\\\\\":\\\\\"⚑\\\\\"}]}],[\\\\\"$\\\\\",\\\\\"div\\\\\",null,{\\\\\"className\\\\\":\\\\\"size-10\\\\\",\\\\\"children\\\\\":[\\\\\"$\\\\\",\\\\\"div\\\\\",null,{\\\\\"id\\\\\":\\\\\"flag-29\\\\\",\\\\\"className\\\\\":\\\\\"\\\\\",\\\\\"children\\\\\":\\\\\"⚑\\\\\"}]}],[\\\\\"$\\\\\",\\\\\"div\\\\\",null,{\\\\\"className\\\\\":\\\\\"size-10\\\\\",\\\\\"children\\\\\":[\\\\\"$\\\\\",\\\\\"div\\\\\",null,{\\\\\"id\\\\\":\\\\\"\\\\\",\\\\\"className\\\\\":\\\\\"flag-30\\\\\",\\\\\"children\\\\\":\\\\\"⚑\\\\\"}]}],[\\\\\"$\\\\\",\\\\\"div\\\\\",null,{\\\\\"className\\\\\":\\\\\"size-10\\\\\",\\\\\"children\\\\\":[\\\\\"$\\\\\",\\\\\"div\\\\\",null,{\\\\\"id\\\\\":\\\\\"flag-31\\\\\",\\\\\"className\\\\\":\\\\\"\\\\\",\\\\\"children\\\\\":\\\\\"⚑\\\\\"}]}],[\\\\\"$\\\\\",\\\\\"div\\\\\",null,{\\\\\"className\\\\\":\\\\\"size-10\\\\\",\\\\\"children\\\\\":[\\\\\"$\\\\\",\\\\\"div\\\\\",null,{\\\\\"id\\\\\":\\\\\"\\\\\",\\\\\"className\\\\\":\\\\\"flag-32\\\\\",\\\\\"children\\\\\":\\\\\"⚑\\\\\"}]}],[\\\\\"$\\\\\",\\\\\"div\\\\\",null,{\\\\\"className\\\\\":\\\\\"size-10\\\\\",\\\\\"children\\\\\":[\\\\\"$\\\\\",\\\\\"div\\\\\",null,{\\\\\"id\\\\\":\\\\\"flag-33\\\\\",\\\\\"className\\\\\":\\\\\"\\\\\",\\\\\"children\\\\\":\\\\\"⚑\\\\\"}]}],[\\\\\"$\\\\\",\\\\\"div\\\\\",null,{\\\\\"className\\\\\":\\\\\"size-10\\\\\",\\\\\"children\\\\\":[\\\\\"$\\\\\",\\\\\"div\\\\\",null,{\\\\\"id\\\\\":\\\\\"\\\\\",\\\\\"className\\\\\":\\\\\"flag-34\\\\\",\\\\\"children\\\\\":\\\\\"⚑\\\\\"}]}],[\\\\\"$\\\\\",\\\\\"div\\\\\",null,{\\\\\"className\\\\\":\\\\\"size-10\\\\\",\\\\\"children\\\\\":[\\\\\"$\\\\\",\\\\\"div\\\\\",null,{\\\\\"id\\\\\":\\\\\"flag-35\\\\\",\\\\\"className\\\\\":\\\\\"\\\\\",\\\\\"children\\\\\":\\\\\"⚑\\\\\"}]}],[\\\\\"$\\\\\",\\\\\"div\\\\\",null,{\\\\\"className\\\\\":\\\\\"size-10\\\\\",\\\\\"children\\\\\":[\\\\\"$\\\\\",\\\\\"div\\\\\",null,{\\\\\"id\\\\\":\\\\\"\\\\\",\\\\\"className\\\\\":\\\\\"flag-36\\\\\",\\\\\"children\\\\\":\\\\\"⚑\\\\\"}]}],[\\\\\"$\\\\\",\\\\\"div\\\\\",null,{\\\\\"className\\\\\":\\\\\"size-10\\\\\",\\\\\"children\\\\\":[\\\\\"$\\\\\",\\\\\"div\\\\\",null,{\\\\\"id\\\\\":\\\\\"flag-37\\\\\",\\\\\"className\\\\\":\\\\\"\\\\\",\\\\\"children\\\\\":\\\\\"⚑\\\\\"}]}],[\\\\\"$\\\\\",\\\\\"div\\\\\",null,{\\\\\"className\\\\\":\\\\\"size-10\\\\\",\\\\\"children\\\\\":[\\\\\"$\\\\\",\\\\\"div\\\\\",null,{\\\\\"id\\\\\":\\\\\"\\\\\",\\\\\"className\\\\\":\\\\\"flag-38\\\\\",\\\\\"children\\\\\":\\\\\"⚑\\\\\"}]}],[\\\\\"$\\\\\",\\\\\"div\\\\\",null,{\\\\\"className\\\\\":\\\\\"size-10\\\\\",\\\\\"children\\\\\":[\\\\\"$\\\\\",\\\\\"div\\\\\",null,{\\\\\"id\\\\\":\\\\\"flag-39\\\\\",\\\\\"className\\\\\":\\\\\"\\\\\",\\\\\"children\\\\\":\\\\\"⚑\\\\\"}]}],[\\\\\"$\\\\\",\\\\\"div\\\\\",null,{\\\\\"className\\\\\":\\\\\"size-10\\\\\",\\\\\"children\\\\\":[\\\\\"$\\\\\",\\\\\"div\\\\\",null,{\\\\\"id\\\\\":\\\\\"\\\\\",\\\\\"className\\\\\":\\\\\"flag-40\\\\\",\\\\\"children\\\\\":\\\\\"⚑\\\\\"}]}]]}]}]]}],null]]},[null,[\\\\\"$\\\\\",\\\\\"html\\\\\",null,{\\\\\"lang\\\\\":\\\\\"en\\\\\",\\\\\"children\\\\\":[\\\\\"$\\\\\",\\\\\"body\\\\\",null,{\\\\\"className\\\\\":\\\\\"__className_d65c78\\\\\",\\\\\"children\\\\\":[\\\\\"$\\\\\",\\\\\"$L7\\\\\",null,{\\\\\"parallelRouterKey\\\\\":\\\\\"children\\\\\",\\\\\"segmentPath\\\\\":[\\\\\"children\\\\\"],\\\\\"loading\\\\\":\\\\\"$undefined\\\\\",\\\\\"loadingStyles\\\\\":\\\\\"$undefined\\\\\",\\\\\"loadingScripts\\\\\":\\\\\"$undefined\\\\\",\\\\\"hasLoading\\\\\":false,\\\\\"error\\\\\":\\\\\"$undefined\\\\\",\\\\\"errorStyles\\\\\":\\\\\"$undefined\\\\\",\\\\\"errorScripts\\\\\":\\\\\"$undefined\\\\\",\\\\\"template\\\\\":[\\\\\"$\\\\\",\\\\\"$L8\\\\\",null,{}],\\\\\"templateStyles\\\\\":\\\\\"$undefined\\\\\",\\\\\"templateScripts\\\\\":\\\\\"$undefined\\\\\",\\\\\"notFound\\\\\":[\\\\\"$\\\\\",\\\\\"div\\\\\",null,{\\\\\"className\\\\\":\\\\\"container mx-auto\\\\\",\\\\\"children\\\\\":[[\\\\\"$\\\\\",\\\\\"div\\\\\",null,{\\\\\"className\\\\\":\\\\\"h-20 sticky\\\\\",\\\\\"children\\\\\":[\\\\\"$\\\\\",\\\\\"$L6\\\\\",null,{\\\\\"src\\\\\":\\\\\"/hertie-school-logo.png\\\\\",\\\\\"width\\\\\":150,\\\\\"height\\\\\":150,\\\\\"alt\\\\\":\\\\\"flag-9\\\\\"}]}],\\\\\"404!\\\\\"]}],\\\\\"notFoundStyles\\\\\":[],\\\\\"styles\\\\\":null}]}]}],null]],\\\\\"initialHead\\\\\":[false,\\\\\"$L9\\\\\"],\\\\\"globalErrorComponent\\\\\":\\\\\"$a\\\\\",\\\\\"missingSlots\\\\\":\\\\\"$Wb\\\\\"}]]\\\\n\"])']\n"
     ]
    },
    {
     "name": "stderr",
     "output_type": "stream",
     "text": [
      "/var/folders/nn/pxd5ddcx3kzgjw3q873c1yjh0000gn/T/ipykernel_12259/1864538719.py:11: DeprecationWarning: The 'text' argument to find()-type methods is deprecated. Use 'string' instead.\n",
      "  flags = soup.find_all(text=re.compile(r'flag-\\d+'))\n"
     ]
    }
   ],
   "source": [
    "import requests\n",
    "from bs4 import BeautifulSoup\n",
    "import re\n",
    "\n",
    "# URL to scrape\n",
    "url = \"https://hertie-scraping-website.vercel.app/\"\n",
    "response = requests.get(url)\n",
    "soup = BeautifulSoup(response.content, 'html.parser')\n",
    "\n",
    "# Find all visible flags in text (matching \"flag-[number]\")\n",
    "flags = soup.find_all(text=re.compile(r'flag-\\d+'))\n",
    "\n",
    "# Also, find flags embedded in HTML attributes (id and class attributes)\n",
    "flags += soup.find_all(id=re.compile(r'flag-\\d+'))\n",
    "flags += soup.find_all(class_=re.compile(r'flag-\\d+'))\n",
    "\n",
    "# Clean up and store unique flags in a set to remove duplicates\n",
    "unique_flags = set()\n",
    "\n",
    "# Extract flags from text and attributes\n",
    "for item in flags:\n",
    "    if isinstance(item, str):\n",
    "        unique_flags.add(item.strip())\n",
    "    else:\n",
    "        # Check and add flags from 'id' attributes\n",
    "        if 'id' in item.attrs and re.match(r'flag-\\d+', item['id']):\n",
    "            unique_flags.add(item['id'])\n",
    "        # Check and add flags from 'class' attributes\n",
    "        if 'class' in item.attrs:\n",
    "            for cls in item['class']:\n",
    "                if re.match(r'flag-\\d+', cls):\n",
    "                    unique_flags.add(cls)\n",
    "\n",
    "# Print all unique flags sorted numerically\n",
    "print(sorted(unique_flags))\n",
    "\n"
   ]
  },
  {
   "cell_type": "code",
   "execution_count": 9,
   "metadata": {},
   "outputs": [
    {
     "data": {
      "text/plain": [
       "[]"
      ]
     },
     "execution_count": 17,
     "metadata": {},
     "output_type": "execute_result"
    }
   ],
   "source": [
    "flags_lev_1"
   ]
  },
  {
   "cell_type": "code",
   "execution_count": 19,
   "metadata": {},
   "outputs": [
    {
     "name": "stdout",
     "output_type": "stream",
     "text": [
      "Flag 48 not found!\n"
     ]
    }
   ],
   "source": [
    "import requests\n",
    "from bs4 import BeautifulSoup\n",
    "\n",
    "url = \"https://hertie-scraping-website.vercel.app/level2\"\n",
    "\n",
    "# Fetch the HTML content\n",
    "response = requests.get(url)\n",
    "soup = BeautifulSoup(response.content, \"html.parser\")\n",
    "\n",
    "# Extracting the flag with id='flag-48'\n",
    "flag_48 = soup.find(id=\"flag-48\")\n",
    "\n",
    "if flag_48:\n",
    "    print(\"Found flag:\", flag_48.get_text())\n",
    "else:\n",
    "    print(\"Flag 48 not found!\")\n"
   ]
  },
  {
   "cell_type": "markdown",
   "metadata": {},
   "source": [
    "from selenium import webdriver\n",
    "from selenium.webdriver.common.by import By\n",
    "from selenium.webdriver.chrome.service import Service\n",
    "from selenium.webdriver.support.ui import WebDriverWait\n",
    "from selenium.webdriver.support import expected_conditions as EC\n",
    "\n",
    "# Make sure the path points to your ChromeDriver\n",
    "service = Service(executable_path='path/to/chromedriver')\n",
    "driver = webdriver.Chrome(service=service)\n",
    "\n",
    "try:\n",
    "    driver.get(\"https://hertie-scraping-website.vercel.app/level2\")\n",
    "\n",
    "    # Wait until flag-48 appears or timeout after 10 seconds\n",
    "    wait = WebDriverWait(driver, 10)\n",
    "    flag_48 = wait.until(\n",
    "        EC.presence_of_element_located((By.XPATH, \"//*[contains(text(), 'flag-48')]\"))\n",
    "    )\n",
    "\n",
    "    print(\"Found:\", flag_48.text)\n",
    "\n",
    "except Exception as e:\n",
    "    print(\"Flag not found:\", e)\n",
    "\n",
    "finally:\n",
    "    driver.quit()\n"
   ]
  }
 ],
 "metadata": {
  "kernelspec": {
   "display_name": ".venv",
   "language": "python",
   "name": "python3"
  },
  "language_info": {
   "codemirror_mode": {
    "name": "ipython",
    "version": 3
   },
   "file_extension": ".py",
   "mimetype": "text/x-python",
   "name": "python",
   "nbconvert_exporter": "python",
   "pygments_lexer": "ipython3",
   "version": "3.13.1"
  }
 },
 "nbformat": 4,
 "nbformat_minor": 2
}
